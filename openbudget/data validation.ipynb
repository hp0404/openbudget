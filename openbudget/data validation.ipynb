{
 "cells": [
  {
   "cell_type": "code",
   "execution_count": 1,
   "metadata": {},
   "outputs": [],
   "source": [
    "import pandas as pd\n",
    "from pathlib import Path\n",
    "from transform import get_cumulative"
   ]
  },
  {
   "cell_type": "code",
   "execution_count": 2,
   "metadata": {},
   "outputs": [],
   "source": [
    "# directory = Path(\"C:/python_projects/github_repos/openbudget/data/api_response/2020/EXPENSES/3\")\n",
    "# files = [directory / file_name for file_name in directory.glob(\"*.json\")]\n",
    "\n",
    "# cumdict = get_cumulative(files, item_type=\"EXPENSES\")\n",
    "# processed = pd.read_csv(\"./../data/tables/2020/EXPENSES/3.csv\", dtype={\"ADMIN\": str, \"ECON\":str})"
   ]
  },
  {
   "cell_type": "code",
   "execution_count": 3,
   "metadata": {},
   "outputs": [],
   "source": [
    "# test = cumdict[1]"
   ]
  },
  {
   "cell_type": "markdown",
   "metadata": {},
   "source": [
    "---"
   ]
  },
  {
   "cell_type": "code",
   "execution_count": 5,
   "metadata": {},
   "outputs": [],
   "source": [
    "# доходи 2020\n",
    "inc_old = pd.read_csv(\"./../data/tables/2020/INC_2020.csv\", dtype={\"ADMIN\": str, \"INCO\":str})\n",
    "inc_new = pd.read_csv(\"./../data/tables/2020/INCOMES_2020.csv\", dtype={\"ADMIN\": str, \"INCO\":str})\n",
    "\n",
    "test1 = inc_new.loc[\n",
    "    inc_new[\"ADMIN\"].eq(\"10518000000\") & inc_new[\"INCO\"].eq(\"10000000\")\n",
    "]\n",
    "\n",
    "test2 = inc_old.loc[\n",
    "    inc_old[\"ADMIN\"].eq(\"10518000000\") & inc_old[\"INCO\"].eq(\"10000000\")\n",
    "]\n",
    "\n",
    "assert test1[\"EXECUTED\"].sum() == test2[\"EXECUTED\"].sum()\n",
    "\n",
    "validation = pd.read_csv(\"./../data/tables/2020/INCOMES/10.csv\", dtype={\"ADMIN\": str, \"INCO\":str})\n",
    "\n",
    "validate_filter = validation.loc[\n",
    "    validation[\"ADMIN\"].eq(\"10518000000\") & validation[\"INCO\"].eq(\"10000000\")\n",
    "]\n",
    "\n",
    "assert validate_filter[\"EXECUTED\"].sum() == test1[\"EXECUTED\"].sum()"
   ]
  },
  {
   "cell_type": "code",
   "execution_count": 2,
   "metadata": {},
   "outputs": [],
   "source": [
    "# видатки 2020\n",
    "old = pd.read_csv(\"./../data/tables/2020/EXP_2020.csv\", dtype={\"ADMIN\": str, \"ECON\":str})\n",
    "new = pd.read_csv(\"./../data/tables/2020/EXPENSES_2020.csv\", dtype={\"ADMIN\": str, \"ECON\":str})\n",
    "\n",
    "test1 = new.loc[\n",
    "    new[\"ADMIN\"].eq(\"10518000000\") & new[\"ECON\"].ne(\"0000\")\n",
    "]\n",
    "\n",
    "test2 = old.loc[\n",
    "    old[\"ADMIN\"].eq(\"10518000000\") & old[\"ECON\"].ne(\"0\")\n",
    "]\n",
    "\n",
    "assert test1[\"EXECUTED\"].sum() == test2[\"EXECUTED\"].sum()\n",
    "\n",
    "validate = pd.read_csv(\"./../data/tables/2020/EXPENSES/10.csv\", dtype={\"ADMIN\": str, \"ECON\":str})\n",
    "\n",
    "validate_filter = validate.loc[\n",
    "    validate[\"ADMIN\"].eq(\"10518000000\") & validate[\"ECON\"].ne(\"0000\")\n",
    "]\n",
    "\n",
    "assert validate_filter[\"EXECUTED\"].sum() == test1[\"EXECUTED\"].sum()"
   ]
  },
  {
   "cell_type": "markdown",
   "metadata": {},
   "source": [
    "---"
   ]
  },
  {
   "cell_type": "code",
   "execution_count": 19,
   "metadata": {},
   "outputs": [],
   "source": [
    "# видатки 2019\n",
    "validate = pd.read_csv(\"./../data/tables/2019/EXPENSES/13.csv\", dtype={\"ADMIN\": str, \"ECON\":str})\n",
    "\n",
    "validate.loc[\n",
    "    validate[\"ADMIN\"].eq(\"13540000000\") &\n",
    "    validate[\"ECON\"].eq(\"0000\") &\n",
    "    ~(validate[\"DATE\"].isin([\"2019-11-01\", \"2019-12-01\"]))\n",
    "][\"EXECUTED\"].sum()"
   ]
  },
  {
   "cell_type": "code",
   "execution_count": 25,
   "metadata": {},
   "outputs": [
    {
     "data": {
      "text/plain": [
       "9118012.510000002"
      ]
     },
     "execution_count": 25,
     "metadata": {},
     "output_type": "execute_result"
    }
   ],
   "source": [
    "# доходи 2019\n",
    "validate = pd.read_csv(\"./../data/tables/2019/INCOMES/12.csv\", dtype={\"ADMIN\": str, \"INCO\":str})\n",
    "\n",
    "validate.loc[\n",
    "    validate[\"ADMIN\"].eq(\"12509000000\") &\n",
    "    validate[\"INCO\"].eq(\"10000000\") &\n",
    "    ~(validate[\"DATE\"].isin([\"2019-11-01\", \"2019-12-01\"]))\n",
    "][\"EXECUTED\"].sum()"
   ]
  },
  {
   "cell_type": "markdown",
   "metadata": {},
   "source": [
    "---"
   ]
  },
  {
   "cell_type": "code",
   "execution_count": 29,
   "metadata": {},
   "outputs": [
    {
     "data": {
      "text/plain": [
       "59708926.28"
      ]
     },
     "execution_count": 29,
     "metadata": {},
     "output_type": "execute_result"
    }
   ],
   "source": [
    "# видатки 2018\n",
    "validate = pd.read_csv(\"./../data/tables/2018/EXPENSES/7.csv\", dtype={\"ADMIN\": str, \"ECON\":str})\n",
    "\n",
    "validate.loc[\n",
    "    validate[\"ADMIN\"].eq(\"07506000000\") &\n",
    "    validate[\"ECON\"].eq(\"0000\") &\n",
    "    ~(validate[\"DATE\"].isin([\"2018-11-01\", \"2018-12-01\"]))\n",
    "][\"EXECUTED\"].sum()"
   ]
  },
  {
   "cell_type": "code",
   "execution_count": 32,
   "metadata": {},
   "outputs": [
    {
     "data": {
      "text/plain": [
       "25575116.290000003"
      ]
     },
     "execution_count": 32,
     "metadata": {},
     "output_type": "execute_result"
    }
   ],
   "source": [
    "# доходи 2018\n",
    "validate = pd.read_csv(\"./../data/tables/2018/INCOMES/5.csv\", dtype={\"ADMIN\": str, \"INCO\":str})\n",
    "\n",
    "validate.loc[\n",
    "    validate[\"ADMIN\"].eq(\"05509000000\") &\n",
    "    validate[\"INCO\"].eq(\"10000000\") &\n",
    "    ~(validate[\"DATE\"].isin([\"2018-11-01\", \"2018-12-01\"]))\n",
    "][\"EXECUTED\"].sum()"
   ]
  },
  {
   "cell_type": "code",
   "execution_count": 31,
   "metadata": {},
   "outputs": [
    {
     "data": {
      "text/html": [
       "<div>\n",
       "<style scoped>\n",
       "    .dataframe tbody tr th:only-of-type {\n",
       "        vertical-align: middle;\n",
       "    }\n",
       "\n",
       "    .dataframe tbody tr th {\n",
       "        vertical-align: top;\n",
       "    }\n",
       "\n",
       "    .dataframe thead th {\n",
       "        text-align: right;\n",
       "    }\n",
       "</style>\n",
       "<table border=\"1\" class=\"dataframe\">\n",
       "  <thead>\n",
       "    <tr style=\"text-align: right;\">\n",
       "      <th></th>\n",
       "      <th>ADMIN</th>\n",
       "      <th>FIN_SOURCE</th>\n",
       "      <th>INCO</th>\n",
       "      <th>ADJUSTED</th>\n",
       "      <th>EXECUTED</th>\n",
       "      <th>DATE</th>\n",
       "    </tr>\n",
       "  </thead>\n",
       "  <tbody>\n",
       "    <tr>\n",
       "      <th>0</th>\n",
       "      <td>05509000000</td>\n",
       "      <td>S</td>\n",
       "      <td>25020000</td>\n",
       "      <td>0.000000e+00</td>\n",
       "      <td>1.634000e+01</td>\n",
       "      <td>2018-01-01</td>\n",
       "    </tr>\n",
       "    <tr>\n",
       "      <th>1</th>\n",
       "      <td>05509000000</td>\n",
       "      <td>S</td>\n",
       "      <td>25010000</td>\n",
       "      <td>6.600000e+04</td>\n",
       "      <td>2.320800e+03</td>\n",
       "      <td>2018-01-01</td>\n",
       "    </tr>\n",
       "    <tr>\n",
       "      <th>2</th>\n",
       "      <td>05509000000</td>\n",
       "      <td>S</td>\n",
       "      <td>25000000</td>\n",
       "      <td>6.600000e+04</td>\n",
       "      <td>2.337140e+03</td>\n",
       "      <td>2018-01-01</td>\n",
       "    </tr>\n",
       "    <tr>\n",
       "      <th>3</th>\n",
       "      <td>05509000000</td>\n",
       "      <td>S</td>\n",
       "      <td>21110000</td>\n",
       "      <td>4.228000e+05</td>\n",
       "      <td>0.000000e+00</td>\n",
       "      <td>2018-01-01</td>\n",
       "    </tr>\n",
       "    <tr>\n",
       "      <th>4</th>\n",
       "      <td>05509000000</td>\n",
       "      <td>S</td>\n",
       "      <td>21000000</td>\n",
       "      <td>4.228000e+05</td>\n",
       "      <td>0.000000e+00</td>\n",
       "      <td>2018-01-01</td>\n",
       "    </tr>\n",
       "    <tr>\n",
       "      <th>...</th>\n",
       "      <td>...</td>\n",
       "      <td>...</td>\n",
       "      <td>...</td>\n",
       "      <td>...</td>\n",
       "      <td>...</td>\n",
       "      <td>...</td>\n",
       "    </tr>\n",
       "    <tr>\n",
       "      <th>173745</th>\n",
       "      <td>05000000000</td>\n",
       "      <td>C</td>\n",
       "      <td>11010200</td>\n",
       "      <td>3.861219e+06</td>\n",
       "      <td>5.154765e+07</td>\n",
       "      <td>2018-12-01</td>\n",
       "    </tr>\n",
       "    <tr>\n",
       "      <th>173746</th>\n",
       "      <td>05000000000</td>\n",
       "      <td>C</td>\n",
       "      <td>11010100</td>\n",
       "      <td>-3.601166e+07</td>\n",
       "      <td>7.158682e+08</td>\n",
       "      <td>2018-12-01</td>\n",
       "    </tr>\n",
       "    <tr>\n",
       "      <th>173747</th>\n",
       "      <td>05000000000</td>\n",
       "      <td>C</td>\n",
       "      <td>11010000</td>\n",
       "      <td>-2.272183e+07</td>\n",
       "      <td>8.230023e+08</td>\n",
       "      <td>2018-12-01</td>\n",
       "    </tr>\n",
       "    <tr>\n",
       "      <th>173748</th>\n",
       "      <td>05000000000</td>\n",
       "      <td>C</td>\n",
       "      <td>11000000</td>\n",
       "      <td>-2.181819e+07</td>\n",
       "      <td>8.492955e+08</td>\n",
       "      <td>2018-12-01</td>\n",
       "    </tr>\n",
       "    <tr>\n",
       "      <th>173749</th>\n",
       "      <td>05000000000</td>\n",
       "      <td>C</td>\n",
       "      <td>10000000</td>\n",
       "      <td>-2.757485e+07</td>\n",
       "      <td>1.004090e+09</td>\n",
       "      <td>2018-12-01</td>\n",
       "    </tr>\n",
       "  </tbody>\n",
       "</table>\n",
       "<p>173750 rows × 6 columns</p>\n",
       "</div>"
      ],
      "text/plain": [
       "              ADMIN FIN_SOURCE      INCO      ADJUSTED      EXECUTED  \\\n",
       "0       05509000000          S  25020000  0.000000e+00  1.634000e+01   \n",
       "1       05509000000          S  25010000  6.600000e+04  2.320800e+03   \n",
       "2       05509000000          S  25000000  6.600000e+04  2.337140e+03   \n",
       "3       05509000000          S  21110000  4.228000e+05  0.000000e+00   \n",
       "4       05509000000          S  21000000  4.228000e+05  0.000000e+00   \n",
       "...             ...        ...       ...           ...           ...   \n",
       "173745  05000000000          C  11010200  3.861219e+06  5.154765e+07   \n",
       "173746  05000000000          C  11010100 -3.601166e+07  7.158682e+08   \n",
       "173747  05000000000          C  11010000 -2.272183e+07  8.230023e+08   \n",
       "173748  05000000000          C  11000000 -2.181819e+07  8.492955e+08   \n",
       "173749  05000000000          C  10000000 -2.757485e+07  1.004090e+09   \n",
       "\n",
       "              DATE  \n",
       "0       2018-01-01  \n",
       "1       2018-01-01  \n",
       "2       2018-01-01  \n",
       "3       2018-01-01  \n",
       "4       2018-01-01  \n",
       "...            ...  \n",
       "173745  2018-12-01  \n",
       "173746  2018-12-01  \n",
       "173747  2018-12-01  \n",
       "173748  2018-12-01  \n",
       "173749  2018-12-01  \n",
       "\n",
       "[173750 rows x 6 columns]"
      ]
     },
     "execution_count": 31,
     "metadata": {},
     "output_type": "execute_result"
    }
   ],
   "source": [
    "validate"
   ]
  }
 ],
 "metadata": {
  "kernelspec": {
   "display_name": "Python 3",
   "language": "python",
   "name": "python3"
  },
  "language_info": {
   "codemirror_mode": {
    "name": "ipython",
    "version": 3
   },
   "file_extension": ".py",
   "mimetype": "text/x-python",
   "name": "python",
   "nbconvert_exporter": "python",
   "pygments_lexer": "ipython3",
   "version": "3.7.4"
  }
 },
 "nbformat": 4,
 "nbformat_minor": 4
}
